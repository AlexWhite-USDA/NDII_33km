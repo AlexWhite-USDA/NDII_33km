{
  "nbformat": 4,
  "nbformat_minor": 0,
  "metadata": {
    "colab": {
      "provenance": [],
      "authorship_tag": "ABX9TyPZ0WaAEu/jx2UNjgMJseE0",
      "include_colab_link": true
    },
    "kernelspec": {
      "name": "python3",
      "display_name": "Python 3"
    },
    "language_info": {
      "name": "python"
    }
  },
  "cells": [
    {
      "cell_type": "markdown",
      "metadata": {
        "id": "view-in-github",
        "colab_type": "text"
      },
      "source": [
        "<a href=\"https://colab.research.google.com/github/AlexWhite-USDA/NDII_33km/blob/main/ASRS24_demo.ipynb\" target=\"_parent\"><img src=\"https://colab.research.google.com/assets/colab-badge.svg\" alt=\"Open In Colab\"/></a>"
      ]
    },
    {
      "cell_type": "code",
      "execution_count": null,
      "metadata": {
        "id": "4RHN-wF2lAVJ"
      },
      "outputs": [],
      "source": [
        "# 264-2 Interactive Vegetation Index Mapping and Time Series Extraction Using the Google Earth Engine API for Python\n",
        "# https://scisoc.confex.com/scisoc/2024am/meetingapp.cgi/Paper/158750\n",
        "# Tri Societies 2024 ASRS symposium\n",
        "# William (Alex) White\n",
        "# November 12, 2024"
      ]
    },
    {
      "cell_type": "code",
      "source": [
        "import folium"
      ],
      "metadata": {
        "id": "vh9lJs1Ol5GL"
      },
      "execution_count": null,
      "outputs": []
    },
    {
      "cell_type": "code",
      "source": [
        "# Set lat, lon and create folium map object\n",
        "lat = 29.42\n",
        "lon = -98.484\n",
        "folium.Map([lat,lon])"
      ],
      "metadata": {
        "id": "-bPQcABMl9kv"
      },
      "execution_count": null,
      "outputs": []
    },
    {
      "cell_type": "code",
      "source": [
        "# Add zoom argument, then add marker, and m object\n",
        "m = folium.Map([lat,lon], zoom_start=17)\n",
        "folium.Marker([lat, lon]).add_to(m)\n",
        "m"
      ],
      "metadata": {
        "id": "g3qyKYDImJSN"
      },
      "execution_count": null,
      "outputs": []
    },
    {
      "cell_type": "code",
      "source": [
        "# Import ee, authenticate, and initialize (click through account access screens)\n",
        "import ee\n",
        "ee.Authenticate()\n",
        "ee.Initialize(project='asrs24')"
      ],
      "metadata": {
        "id": "6ESVpZErmVuu"
      },
      "execution_count": null,
      "outputs": []
    },
    {
      "cell_type": "code",
      "source": [
        "# Define folium method (credit: Qiusheng Wu)\n",
        "# https://colab.research.google.com/github/giswqs/qgis-earthengine-examples/blob/master/Folium/ee-api-folium-setup.ipynb#scrollTo=qBFjMAQkfK7A\n",
        "# Define a method for displaying Earth Engine image tiles on a folium map.\n",
        "def add_ee_layer(self, ee_object, vis_params, name):\n",
        "\n",
        "    try:\n",
        "        # display ee.Image()\n",
        "        if isinstance(ee_object, ee.image.Image):\n",
        "            map_id_dict = ee.Image(ee_object).getMapId(vis_params)\n",
        "            folium.raster_layers.TileLayer(\n",
        "            tiles = map_id_dict['tile_fetcher'].url_format,\n",
        "            attr = 'Google Earth Engine',\n",
        "            name = name,\n",
        "            overlay = True,\n",
        "            control = True\n",
        "            ).add_to(self)\n",
        "        # display ee.ImageCollection()\n",
        "        elif isinstance(ee_object, ee.imagecollection.ImageCollection):\n",
        "            ee_object_new = ee_object.mosaic()\n",
        "            map_id_dict = ee.Image(ee_object_new).getMapId(vis_params)\n",
        "            folium.raster_layers.TileLayer(\n",
        "            tiles = map_id_dict['tile_fetcher'].url_format,\n",
        "            attr = 'Google Earth Engine',\n",
        "            name = name,\n",
        "            overlay = True,\n",
        "            control = True\n",
        "            ).add_to(self)\n",
        "        # display ee.Geometry()\n",
        "        elif isinstance(ee_object, ee.geometry.Geometry):\n",
        "            folium.GeoJson(\n",
        "            data = ee_object.getInfo(),\n",
        "            name = name,\n",
        "            overlay = True,\n",
        "            control = True\n",
        "        ).add_to(self)\n",
        "        # display ee.FeatureCollection()\n",
        "        elif isinstance(ee_object, ee.featurecollection.FeatureCollection):\n",
        "            ee_object_new = ee.Image().paint(ee_object, 0, 2)\n",
        "            map_id_dict = ee.Image(ee_object_new).getMapId(vis_params)\n",
        "            folium.raster_layers.TileLayer(\n",
        "            tiles = map_id_dict['tile_fetcher'].url_format,\n",
        "            attr = 'Google Earth Engine',\n",
        "            name = name,\n",
        "            overlay = True,\n",
        "            control = True\n",
        "        ).add_to(self)\n",
        "\n",
        "    except:\n",
        "        print(\"Could not display {}\".format(name))\n",
        "\n",
        "# Add EE drawing method to folium.\n",
        "folium.Map.add_ee_layer = add_ee_layer"
      ],
      "metadata": {
        "id": "99dZxxG5n2AT"
      },
      "execution_count": null,
      "outputs": []
    },
    {
      "cell_type": "code",
      "source": [
        "# Load NAIP\n",
        "# https://developers.google.com/earth-engine/datasets/catalog/USDA_NAIP_DOQQ\n",
        "naip = ee.ImageCollection('USDA/NAIP/DOQQ') \\\n",
        ".filterDate('2022-01-01', '2024-12-31') \\\n",
        ".select(['R', 'G', 'B'])\n",
        "\n",
        "m.add_ee_layer(naip,{'min': 0.0, 'max': 255.0},'NAIP basemap')\n",
        "m"
      ],
      "metadata": {
        "id": "v2ChtyZHocoq"
      },
      "execution_count": null,
      "outputs": []
    },
    {
      "cell_type": "code",
      "source": [
        "# Set coordinates to farmland, add a layer control panel to the map\n",
        "lat = 29.35\n",
        "lon = -98.8\n",
        "\n",
        "m = folium.Map([lat,lon], zoom_start = 10)\n",
        "folium.Marker([lat,lon]).add_to(m)\n",
        "m.add_ee_layer(naip,{'min': 0.0, 'max': 255.0},'NAIP basemap')\n",
        "m.add_child(folium.LayerControl())"
      ],
      "metadata": {
        "id": "pHxcnBZQojk1"
      },
      "execution_count": null,
      "outputs": []
    },
    {
      "cell_type": "code",
      "source": [
        "# Load and filter Landsat 9 collection – note reversed order of lon, lat\n",
        "l9sr = ee.ImageCollection('LANDSAT/LC09/C02/T1_L2') \\\n",
        ".filterDate('2024-10-15','2024-10-31') \\\n",
        ".filterBounds(ee.Geometry.Point([lon,lat]))"
      ],
      "metadata": {
        "id": "XZ04UcJLoq17"
      },
      "execution_count": null,
      "outputs": []
    },
    {
      "cell_type": "code",
      "source": [
        "# Try different dates, and get JSON info\n",
        "l9sr.getInfo()"
      ],
      "metadata": {
        "id": "AkBAs4Veo7VC"
      },
      "execution_count": null,
      "outputs": []
    },
    {
      "cell_type": "code",
      "source": [
        "# Get collection size info\n",
        "l9sr.size().getInfo()"
      ],
      "metadata": {
        "id": "J9lTB4vHpDwP"
      },
      "execution_count": null,
      "outputs": []
    },
    {
      "cell_type": "code",
      "source": [
        "# Get first image date\n",
        "l9sr.first().getInfo()['properties']['DATE_ACQUIRED']"
      ],
      "metadata": {
        "id": "GiVirOeQpMCd"
      },
      "execution_count": null,
      "outputs": []
    },
    {
      "cell_type": "code",
      "source": [
        "# Add Landsat collection to map, with vis parameters\n",
        "# https://developers.google.com/earth-engine/datasets/catalog/LANDSAT_LC08_C02_T1_L2#bands\n",
        "\n",
        "def apply_scale_factors(image):\n",
        "  optical_bands = image.select('SR_B.').multiply(0.0000275).add(-0.2)\n",
        "  thermal_bands = image.select('ST_B.*').multiply(0.00341802).add(149.0)\n",
        "  return image.addBands(optical_bands, None, True).addBands(\n",
        "      thermal_bands, None, True\n",
        "  )\n",
        "\n",
        "dataset = l9sr.map(apply_scale_factors)\n",
        "\n",
        "visualization = {\n",
        "    'bands': ['SR_B4', 'SR_B3', 'SR_B2'],\n",
        "    'min': 0.0,\n",
        "    'max': 0.3,\n",
        "    }\n",
        "\n",
        "m.add_ee_layer(dataset,visualization,'Landsat')"
      ],
      "metadata": {
        "id": "9yo1TlA9pSpB"
      },
      "execution_count": null,
      "outputs": []
    },
    {
      "cell_type": "code",
      "source": [
        "# Cloud mask – map a function to entire collection (open link)\n",
        "# https://developers.google.com/earth-engine/landsat_c1_to_c2#colab-python_1\n",
        "\n",
        "def cloudMask(scene):\n",
        "  qa_mask = scene.select('QA_PIXEL').bitwiseAnd(int('11111', 2)).eq(0)\n",
        "  return scene.updateMask(qa_mask)\n",
        "\n",
        "l9sr_masked = l9sr.map(cloudMask)"
      ],
      "metadata": {
        "id": "AXaEg_5Ypnpc"
      },
      "execution_count": null,
      "outputs": []
    },
    {
      "cell_type": "code",
      "source": [
        "# Run all map commands in 1 cell, view map full-screen and toggle between layers\n",
        "m = folium.Map([lat,lon], zoom_start=17)\n",
        "folium.Marker([lat, lon]).add_to(m)\n",
        "m.add_ee_layer(naip,{'min': 0.0, 'max': 255.0},'NAIP basemap')\n",
        "m.add_ee_layer(l9sr.map(apply_scale_factors),visualization,'Landsat')\n",
        "m.add_ee_layer(l9sr_masked.map(apply_scale_factors),visualization,'Landsat masked')\n",
        "m.add_child(folium.LayerControl())"
      ],
      "metadata": {
        "id": "84Jpgg_rqiD4"
      },
      "execution_count": null,
      "outputs": []
    },
    {
      "cell_type": "code",
      "source": [
        "#\tEdit date range to 10-01-2024 – 10-31-2024, run cells again, and show cloud masked result is mosaic of the 2 images"
      ],
      "metadata": {
        "id": "WrT3Aqejstx-"
      },
      "execution_count": null,
      "outputs": []
    },
    {
      "cell_type": "code",
      "source": [
        "# NDII function and vis params\n",
        "# Note that .select('NDII') removes other bands\n",
        "\n",
        "def ndiiL9(scene):\n",
        "  ndii = scene.normalizedDifference(['SR_B5', 'SR_B6']).select([0], ['NDII'])\n",
        "  return scene.addBands(ndii)\n",
        "\n",
        "l9sr_ndii = l9sr_masked.map(ndiiL9).select('NDII')\n",
        "\n",
        "vis_params = {\n",
        "  'min': 0,\n",
        "  'max': 1.0,\n",
        "  'palette': ['0000ff', '00ffff', 'ffff00', 'ff0000', 'ffffff']\n",
        "}"
      ],
      "metadata": {
        "id": "ZInC5xJksvzN"
      },
      "execution_count": null,
      "outputs": []
    },
    {
      "cell_type": "code",
      "source": [
        "# Show new band in JSON\n",
        "l9sr_ndii.getInfo()"
      ],
      "metadata": {
        "id": "vkELAXiitFcq"
      },
      "execution_count": null,
      "outputs": []
    },
    {
      "cell_type": "code",
      "source": [
        "# Edit cell with map commands, to add ndii layer to map and view results… paste:\n",
        "# m.add_ee_layer(l9sr_ndii, vis_params, 'Landsat NDII')"
      ],
      "metadata": {
        "id": "Z3UNoonytTjq"
      },
      "execution_count": null,
      "outputs": []
    },
    {
      "cell_type": "code",
      "source": [
        "# Demo full-fledged tool\n",
        "# https://github.com/AlexWhite-USDA/NDII_33km/"
      ],
      "metadata": {
        "id": "9JjtKy6iuQ5c"
      },
      "execution_count": null,
      "outputs": []
    }
  ]
}